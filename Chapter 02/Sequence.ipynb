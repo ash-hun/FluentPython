{
 "cells": [
  {
   "cell_type": "markdown",
   "metadata": {},
   "source": [
    "# **Fluent Python**\n",
    "\n",
    "## Part 02 - Chapter 02 : 데이터 구조체 (시퀀스)\n",
    "\n",
    "- 파이썬의 창시자 귀도 반 로썸은 파이썬을 만들기전 ABC 언어에 참여하고 있었음.  \n",
    "  (ABC언어는 초보자를 위한 프로그래밍 환경 개발 프로젝트로 10년간 진행된 연구프로젝트임)\n",
    "- 파이썬은 시퀀스를 단일하게 처리하는 ABC의 특징을 물려받았음."
   ]
  },
  {
   "cell_type": "markdown",
   "metadata": {},
   "source": [
    "### **1. 내장 시퀀스**\n",
    "\n",
    "- Python 표준 라이브러리는 C로 구현된 다음 시퀀스를 제공\n",
    "    - 컨테이너 시퀀스 : 객체에 대한 참조를 담고 있기때문에 서로 다른 자료형의 항목들을 담을 수 있음.\n",
    "        - list\n",
    "        - tuple\n",
    "        - collections.deque\n",
    "    - 균일 시퀀스 : 객체에 대한 참조 대신 자신의 메모리 공간에 값을 직접 담기 때문에 단 하나의 자료형만 담을 수 있음.\n",
    "        - str\n",
    "        - bytes\n",
    "        - bytearray\n",
    "        - memoryview\n",
    "        - array.array\n",
    "- 가변성에 따라 다음과 같이 분류할 수 있음.\n",
    "    - 가변 시퀀스\n",
    "        - list, bytearray, array.array, collections.deque, memoryview\n",
    "    - 불변 시퀀스\n",
    "        - tupel, str, bytes"
   ]
  },
  {
   "cell_type": "markdown",
   "metadata": {},
   "source": [
    "### **2. 지능형 리스트(List Comprehension)와 제네레이터 표현식(Generator Expression)**"
   ]
  },
  {
   "cell_type": "markdown",
   "metadata": {},
   "source": [
    "#### 2.2.1 지능형 리스트(List Comprehension)와 가독성"
   ]
  },
  {
   "cell_type": "code",
   "execution_count": 1,
   "metadata": {},
   "outputs": [
    {
     "data": {
      "text/plain": [
       "[36, 120750, 120678, 120625, 120634, 162, 8364]"
      ]
     },
     "execution_count": 1,
     "metadata": {},
     "output_type": "execute_result"
    }
   ],
   "source": [
    "symbols = '$𝞮𝝦𝜱𝜺¢€' # Unicode\n",
    "codes = []\n",
    "for symbol in symbols:\n",
    "    codes.append(ord(symbol))\n",
    "\n",
    "codes"
   ]
  },
  {
   "cell_type": "code",
   "execution_count": 2,
   "metadata": {},
   "outputs": [
    {
     "data": {
      "text/plain": [
       "[36, 120750, 120678, 120625, 120634, 162, 8364]"
      ]
     },
     "execution_count": 2,
     "metadata": {},
     "output_type": "execute_result"
    }
   ],
   "source": [
    "symbols = '$𝞮𝝦𝜱𝜺¢€' # Unicode\n",
    "codes = [ord(symbol) for symbol in symbols]\n",
    "\n",
    "codes"
   ]
  },
  {
   "cell_type": "markdown",
   "metadata": {},
   "source": [
    "#### 2.2.2 지능형 리스트와 map() / filter() 비교\n",
    "\n",
    "`map()`과 `filter()` 함수를 이용해서 수행할 수 있는 작업은 기능적으로 문제가 있는 파이썬 람다를 억지로 사용하지 않아도 모두 구현할 수 있다."
   ]
  },
  {
   "cell_type": "code",
   "execution_count": 3,
   "metadata": {},
   "outputs": [
    {
     "data": {
      "text/plain": [
       "[120750, 120678, 120625, 120634, 162, 8364]"
      ]
     },
     "execution_count": 3,
     "metadata": {},
     "output_type": "execute_result"
    }
   ],
   "source": [
    "symbols = '$𝞮𝝦𝜱𝜺¢€' # Unicode\n",
    "beyond_ascii = [ord(s) for s in symbols if ord(s)>127]\n",
    "beyond_ascii"
   ]
  },
  {
   "cell_type": "code",
   "execution_count": 4,
   "metadata": {},
   "outputs": [
    {
     "data": {
      "text/plain": [
       "[120750, 120678, 120625, 120634, 162, 8364]"
      ]
     },
     "execution_count": 4,
     "metadata": {},
     "output_type": "execute_result"
    }
   ],
   "source": [
    "symbols = '$𝞮𝝦𝜱𝜺¢€' # Unicode\n",
    "beyond_ascii = list(filter(lambda c:c>127, map(ord, symbols)))\n",
    "beyond_ascii"
   ]
  },
  {
   "cell_type": "markdown",
   "metadata": {},
   "source": [
    "#### 2.2.3 데카르트 곱\n",
    "\n",
    "지능형 리스트는 2개 이상의 반복 가능한 자료형의 데카르트 곱을 나타내는 일련의 리스트를 만들 수 있다."
   ]
  },
  {
   "cell_type": "code",
   "execution_count": null,
   "metadata": {},
   "outputs": [],
   "source": []
  }
 ],
 "metadata": {
  "kernelspec": {
   "display_name": "Python 3",
   "language": "python",
   "name": "python3"
  },
  "language_info": {
   "codemirror_mode": {
    "name": "ipython",
    "version": 3
   },
   "file_extension": ".py",
   "mimetype": "text/x-python",
   "name": "python",
   "nbconvert_exporter": "python",
   "pygments_lexer": "ipython3",
   "version": "3.10.14"
  }
 },
 "nbformat": 4,
 "nbformat_minor": 2
}
